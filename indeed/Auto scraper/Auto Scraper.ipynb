{
 "cells": [
  {
   "attachments": {},
   "cell_type": "markdown",
   "metadata": {},
   "source": [
    "<h2>Importing Libraries</h2>\n",
    "<h6>\n",
    "    <ul>\n",
    "        <li><a href=\"https://selenium-python.readthedocs.io/index.html\">Selenium (pip install selenium)</a></li>\n",
    "        <li><a href=\"https://pypi.org/project/webdriver-manager/\">Webdriver Manager (pip install webdriver-manager)</a></li>\n",
    "        <li><a href=\"https://pypi.org/project/requests/\">Requests (python -m pip install requests)</a> [UNUSED]</li>\n",
    "        <li><a href=\"https://www.crummy.com/software/BeautifulSoup/bs4/doc/\">BeautifulSoup (pip install beautifulsoup4)</a></li>\n",
    "        <li><a href=\"https://pandas.pydata.org/docs/\">Pandas (pip install pandas)</a</li>\n",
    "</h6>\n"
   ]
  },
  {
   "cell_type": "code",
   "execution_count": 2,
   "metadata": {},
   "outputs": [],
   "source": [
    "import requests\n",
    "from bs4 import BeautifulSoup\n",
    "import pandas as pd\n",
    "from selenium import webdriver\n",
    "import time\n",
    "from selenium.webdriver.common.keys import Keys\n",
    "from selenium.webdriver.common.by import By\n",
    "from selenium.webdriver.support.ui import WebDriverWait\n",
    "from selenium.webdriver.support import expected_conditions as EC\n",
    "import csv"
   ]
  },
  {
   "attachments": {},
   "cell_type": "markdown",
   "metadata": {},
   "source": [
    "<h2>Constants</h2>"
   ]
  },
  {
   "cell_type": "code",
   "execution_count": 1,
   "metadata": {},
   "outputs": [],
   "source": [
    "BASE_URL='https://br.indeed.com/'\n",
    "HEADERS ={\"User-Agent\":\"Mozilla/5.0 (Windows NT 10.0; Win64; x64; rv:66.0) Gecko/20100101 Firefox/66.0\", \"Accept-Encoding\":\"gzip, deflate\", \"Accept\":\"text/html,application/xhtml+xml,application/xml;q=0.9,*/*;q=0.8\", \"DNT\":\"1\",\"Connection\":\"close\", \"Upgrade-Insecure-Requests\":\"1\"}"
   ]
  },
  {
   "attachments": {},
   "cell_type": "markdown",
   "metadata": {},
   "source": [
    "<h2>Functions</h2>"
   ]
  },
  {
   "cell_type": "code",
   "execution_count": 3,
   "metadata": {},
   "outputs": [],
   "source": [
    "def set_up():\n",
    "    what=input('O quê: ')\n",
    "    #what=what.replace(' ','+')\n",
    "    where=input('Onde: ')\n",
    "    #where=where.replace(' ','+')\n",
    "    return what,where"
   ]
  },
  {
   "cell_type": "code",
   "execution_count": 9,
   "metadata": {},
   "outputs": [],
   "source": [
    "#============================Unused============================#\n",
    "def get_page_content(driver,url):\n",
    "    time.sleep(1)\n",
    "    driver.get(url)\n",
    "    content=driver.page_source\n",
    "    return content"
   ]
  },
  {
   "cell_type": "code",
   "execution_count": 8,
   "metadata": {},
   "outputs": [],
   "source": [
    "def search(driver, url, what, where=None):\n",
    "    #driver = webdriver.Firefox()\n",
    "    #driver = webdriver.Chrome()\n",
    "    #jobs=[]\n",
    "    driver.get(url)\n",
    "    time.sleep(1)\n",
    "    driver.find_element(By.XPATH,'//*[@id=\"text-input-what\"]').send_keys(what)\n",
    "    time.sleep(1)\n",
    "    if where is not None:\n",
    "        driver.find_element(By.XPATH,'//*[@id=\"text-input-where\"]').send_keys(where)\n",
    "        time.sleep(1)\n",
    "    driver.find_element(By.XPATH,'/html/body/div').click()\n",
    "    time.sleep(1)\n",
    "    try:\n",
    "        driver.find_element(By.XPATH,'//*[@id=\"jobsearch\"]/button').click()\n",
    "    except:\n",
    "        driver.find_element(By.XPATH,'//*[@id=\"whatWhereFormId\"]/div[3]/button').click()\n",
    "    #current_url = driver.current_url\n",
    "    return"
   ]
  },
  {
   "cell_type": "code",
   "execution_count": null,
   "metadata": {},
   "outputs": [],
   "source": [
    "def get_jobs(driver):\n",
    "    jobs=[]\n",
    "    time.sleep(1)\n",
    "    content=driver.page_source\n",
    "    soup=BeautifulSoup(content,'lxml')   \n",
    "    for post in soup.select('.job_seen_beacon'):\n",
    "        try:\n",
    "            data={\n",
    "                \"Vaga\":post.select('.jobTitle')[0].get_text().strip(),\n",
    "                \"Empresa\":post.select('.companyName')[0].get_text().strip(),\n",
    "                \"Avaliação\":post.select('.ratingNumber')[0].get_text().strip(),\n",
    "                \"Local\":post.select('.companyLocation')[0].get_text().strip(),\n",
    "                \"Data\":post.select('.date')[0].get_text().strip(),\n",
    "                \"Descrição\":post.select('.job-snippet')[0].get_text().strip(),\n",
    "                #\"Link\":f'br.indeed.com'+post.select('.jcs-JobTitle css-jspxzf eu4oa1w0').get('href').strip()\n",
    "                \"Link\":f'br.indeed.com'+post.find('a',{'class':'jcs-JobTitle css-jspxzf eu4oa1w0'}).get('href').strip()    \n",
    "            }\n",
    "        except IndexError:\n",
    "            continue\n",
    "        jobs.append(data)\n",
    "    try:\n",
    "        next_page=driver.find_element(By.XPATH,'//*[@id=\"jobsearch-JapanPage\"]/div/div/div[5]/div[1]/nav/div[6]/a')\n",
    "    except:\n",
    "        print('didnt worked!')\n",
    "    return jobs\n"
   ]
  },
  {
   "attachments": {},
   "cell_type": "markdown",
   "metadata": {},
   "source": [
    "<h3>CSV Exporting</h3>"
   ]
  },
  {
   "cell_type": "code",
   "execution_count": 6,
   "metadata": {},
   "outputs": [],
   "source": [
    "def save_as_csv(jobs):\n",
    "    file=open('jobs.csv',\"w\",encoding=\"utf-8\")\n",
    "    writer=csv.writer(file)\n",
    "    writer.writerow(['Vaga','Empresa','Avaliação','Local','Data','Descrição','Link'])\n",
    "    for job in jobs:\n",
    "        writer.writerow(list(job.values()))"
   ]
  },
  {
   "attachments": {},
   "cell_type": "markdown",
   "metadata": {},
   "source": [
    "<h1>Execution</h1>\n"
   ]
  },
  {
   "cell_type": "code",
   "execution_count": null,
   "metadata": {},
   "outputs": [],
   "source": []
  }
 ],
 "metadata": {
  "kernelspec": {
   "display_name": "Python 3",
   "language": "python",
   "name": "python3"
  },
  "language_info": {
   "codemirror_mode": {
    "name": "ipython",
    "version": 3
   },
   "file_extension": ".py",
   "mimetype": "text/x-python",
   "name": "python",
   "nbconvert_exporter": "python",
   "pygments_lexer": "ipython3",
   "version": "3.11.3"
  },
  "orig_nbformat": 4
 },
 "nbformat": 4,
 "nbformat_minor": 2
}
