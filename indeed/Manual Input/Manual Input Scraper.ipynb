{
 "cells": [
  {
   "attachments": {},
   "cell_type": "markdown",
   "metadata": {},
   "source": [
    "<h2>Importing Libraries</h2>\n",
    "<h6>\n",
    "    <ul>\n",
    "        <li><a href=\"https://selenium-python.readthedocs.io/index.html\">Selenium (pip install selenium)</a></li>\n",
    "        <li><a href=\"https://pypi.org/project/webdriver-manager/\">Webdriver Manager (pip install webdriver-manager)</a></li>\n",
    "        <li><a href=\"https://www.crummy.com/software/BeautifulSoup/bs4/doc/\">BeautifulSoup (pip install beautifulsoup4)</a></li>\n",
    "        <li><a href=\"https://docs.python.org/3/library/time.html\">Time</a> [NATIVE LIBRARY]\n",
    "        <li><a href=\"https://docs.python.org/3/library/csv.html\">CSV</a> [NATIVE LIBRARY]\n",
    "        <li><a href=\"https://pandas.pydata.org/docs/\">Pandas (pip install pandas)</a> [OPTIONAL]</li>\n",
    "        <li><a href=\"https://pypi.org/project/requests/\">Requests (python -m pip install requests)</a> [UNUSED]</li>        \n",
    "</h6>\n"
   ]
  },
  {
   "cell_type": "code",
   "execution_count": 44,
   "metadata": {},
   "outputs": [],
   "source": [
    "from selenium import webdriver\n",
    "from selenium.webdriver.common.by import By\n",
    "from bs4 import BeautifulSoup\n",
    "import time\n",
    "import csv\n",
    "import pandas as pd\n",
    "#import requests"
   ]
  },
  {
   "attachments": {},
   "cell_type": "markdown",
   "metadata": {},
   "source": [
    "<h2>Constants</h2>\n"
   ]
  },
  {
   "cell_type": "code",
   "execution_count": 45,
   "metadata": {},
   "outputs": [],
   "source": [
    "BASE_URL='https://br.indeed.com/'\n",
    "HEADERS ={\"User-Agent\":\"Mozilla/5.0 (Windows NT 10.0; Win64; x64; rv:66.0) Gecko/20100101 Firefox/66.0\", \"Accept-Encoding\":\"gzip, deflate\", \"Accept\":\"text/html,application/xhtml+xml,application/xml;q=0.9,*/*;q=0.8\", \"DNT\":\"1\",\"Connection\":\"close\", \"Upgrade-Insecure-Requests\":\"1\"}"
   ]
  },
  {
   "attachments": {},
   "cell_type": "markdown",
   "metadata": {},
   "source": [
    "<h2>Functions</h2>"
   ]
  },
  {
   "attachments": {},
   "cell_type": "markdown",
   "metadata": {},
   "source": [
    "<h3>Set Up</h3>"
   ]
  },
  {
   "cell_type": "code",
   "execution_count": 46,
   "metadata": {},
   "outputs": [],
   "source": [
    "def set_up():\n",
    "    what=input('O quê: ')\n",
    "    what=what.replace(' ','+')\n",
    "    where=input('Onde: ')\n",
    "    where=where.replace(' ','+')\n",
    "    range_=int(input('Alcance: '))\n",
    "    return what, where, range_"
   ]
  },
  {
   "attachments": {},
   "cell_type": "markdown",
   "metadata": {},
   "source": [
    "<h3>Scraping</h3>"
   ]
  },
  {
   "cell_type": "code",
   "execution_count": 47,
   "metadata": {},
   "outputs": [],
   "source": [
    "def build_url(BASE_URL,what,where,page=None):\n",
    "    url=f'{BASE_URL}jobs?q={what}&l={where}&start={page}'\n",
    "    return url"
   ]
  },
  {
   "cell_type": "code",
   "execution_count": 48,
   "metadata": {},
   "outputs": [],
   "source": [
    "def get_page_content(driver, url):\n",
    "    #driver=webdriver.Firefox()\n",
    "    time.sleep(1)\n",
    "    driver.get(url)\n",
    "    content=driver.page_source\n",
    "    return content"
   ]
  },
  {
   "cell_type": "code",
   "execution_count": 49,
   "metadata": {},
   "outputs": [],
   "source": [
    "#============================Unused============================#\n",
    "def get_jobs(driver,content):\n",
    "    soup=BeautifulSoup(content,'lxml')\n",
    "    jobs_list=[]   \n",
    "    for post in soup.select('.job_seen_beacon'):\n",
    "        try:\n",
    "            data={\n",
    "                \"Vaga\":post.select('.jobTitle')[0].get_text().strip(),\n",
    "                \"Empresa\":post.select('.companyName')[0].get_text().strip(),\n",
    "                \"Avaliação\":post.select('.ratingNumber')[0].get_text().strip(),\n",
    "                \"Local\":post.select('.companyLocation')[0].get_text().strip(),\n",
    "                \"Data\":post.select('.date')[0].get_text().strip(),\n",
    "                \"Descrição\":post.select('.job-snippet')[0].get_text().strip(),\n",
    "                #\"Link\":f'br.indeed.com'+post.select('.jcs-JobTitle css-jspxzf eu4oa1w0').get('href').strip()\n",
    "                \"Link\":f'br.indeed.com'+post.find('a',{'class':'jcs-JobTitle css-jspxzf eu4oa1w0'}).get('href').strip()    \n",
    "                }\n",
    "        except IndexError:\n",
    "            continue\n",
    "        jobs_list.append(data)\n",
    "    #dataframe = pd.DataFrame(jobs_list)\n",
    "    \n",
    "    return jobs_list"
   ]
  },
  {
   "cell_type": "code",
   "execution_count": 50,
   "metadata": {},
   "outputs": [],
   "source": [
    "#============================Unused============================#\n",
    "def get_current_url(driver, url, what, where=None):\n",
    "    #driver = webdriver.Firefox()\n",
    "    #driver = webdriver.Chrome()\n",
    "    driver.get(url)\n",
    "    time.sleep(1)\n",
    "    driver.find_element(By.XPATH,'//*[@id=\"text-input-what\"]').send_keys(what)\n",
    "    time.sleep(1)\n",
    "    if where is not None:\n",
    "        driver.find_element(By.XPATH,'//*[@id=\"text-input-where\"]').send_keys(where)\n",
    "        time.sleep(1)\n",
    "    driver.find_element(By.XPATH,'/html/body/div').click()\n",
    "    time.sleep(1)\n",
    "    try:\n",
    "        driver.find_element(By.XPATH,'//*[@id=\"jobsearch\"]/button').click()\n",
    "    except:\n",
    "        driver.find_element(By.XPATH,'//*[@id=\"whatWhereFormId\"]/div[3]/button').click()\n",
    "    current_url = driver.current_url\n",
    "\n",
    "    return current_url"
   ]
  },
  {
   "cell_type": "code",
   "execution_count": 51,
   "metadata": {},
   "outputs": [],
   "source": [
    "def scrape(driver,what,where,range_):\n",
    "    jobs=[]\n",
    "    for page in range(0,(range_*10),10):\n",
    "        url=build_url(BASE_URL,what,where,page)\n",
    "        content=get_page_content(driver,url)\n",
    "        soup=BeautifulSoup(content,'lxml')   \n",
    "        for post in soup.select('.job_seen_beacon'):\n",
    "            try:\n",
    "                data={\n",
    "                    \"Vaga\":post.select('.jobTitle')[0].get_text().strip(),\n",
    "                    \"Empresa\":post.select('.companyName')[0].get_text().strip(),\n",
    "                    \"Avaliação\":post.select('.ratingNumber')[0].get_text().strip(),\n",
    "                    \"Local\":post.select('.companyLocation')[0].get_text().strip(),\n",
    "                    \"Data\":post.select('.date')[0].get_text().strip(),\n",
    "                    \"Descrição\":post.select('.job-snippet')[0].get_text().strip(),\n",
    "                    #\"Link\":f'br.indeed.com'+post.select('.jcs-JobTitle css-jspxzf eu4oa1w0').get('href').strip()\n",
    "                    \"Link\":f'br.indeed.com'+post.find('a',{'class':'jcs-JobTitle css-jspxzf eu4oa1w0'}).get('href').strip()    \n",
    "                }\n",
    "            except IndexError:\n",
    "                continue\n",
    "            jobs.append(data)\n",
    "    return jobs    "
   ]
  },
  {
   "attachments": {},
   "cell_type": "markdown",
   "metadata": {},
   "source": [
    "<h3>CSV Export</h3>"
   ]
  },
  {
   "cell_type": "code",
   "execution_count": 52,
   "metadata": {},
   "outputs": [],
   "source": [
    "def save_as_csv(jobs):\n",
    "    file=open('jobs.csv',\"w\",encoding=\"utf-8\")\n",
    "    writer=csv.writer(file)\n",
    "    writer.writerow(['Vaga','Empresa','Avaliação','Local','Data','Descrição','Link'])\n",
    "    for job in jobs:\n",
    "        writer.writerow(list(job.values()))"
   ]
  },
  {
   "attachments": {},
   "cell_type": "markdown",
   "metadata": {},
   "source": [
    "<h1>Execution</h1>"
   ]
  },
  {
   "cell_type": "code",
   "execution_count": 53,
   "metadata": {},
   "outputs": [],
   "source": [
    "what,where,range_=set_up()\n",
    "driver = webdriver.Firefox()\n",
    "jobs=scrape(driver,what,where,range_)\n",
    "driver.quit()\n",
    "#jobs\n",
    "save_as_csv(jobs)"
   ]
  }
 ],
 "metadata": {
  "kernelspec": {
   "display_name": "Python 3",
   "language": "python",
   "name": "python3"
  },
  "language_info": {
   "codemirror_mode": {
    "name": "ipython",
    "version": 3
   },
   "file_extension": ".py",
   "mimetype": "text/x-python",
   "name": "python",
   "nbconvert_exporter": "python",
   "pygments_lexer": "ipython3",
   "version": "3.11.3"
  },
  "orig_nbformat": 4
 },
 "nbformat": 4,
 "nbformat_minor": 2
}
